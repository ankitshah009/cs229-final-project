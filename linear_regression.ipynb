{
  "cells": [
    {
      "metadata": {
        "trusted": true,
        "_uuid": "62d84301235a2dc881c83f52cd6dcdb8e2869bdd"
      },
      "cell_type": "code",
      "source": "from kaggle.competitions import twosigmanews\nimport pandas as pd\nimport numpy as np\nimport datetime\nfrom itertools import chain\nfrom sklearn import linear_model\nfrom sklearn import metrics\nfrom sklearn.model_selection import train_test_split\nimport matplotlib.pyplot as plt\n\nenv = twosigmanews.make_env()\n(market_train_df, news_train_df) = env.get_training_data()\n\nmarket_train_df = market_train_df.tail(300000)\nnews_train_df = news_train_df.loc[news_train_df['time']>market_train_df.iloc[0].time.normalize()]",
      "execution_count": 1,
      "outputs": [
        {
          "output_type": "stream",
          "text": "Loading the data... This could take a minute.\nDone!\n",
          "name": "stdout"
        }
      ]
    },
    {
      "metadata": {
        "trusted": true,
        "_uuid": "a9d624724667e34aa00312d2ae7de96ae31f1b9d"
      },
      "cell_type": "code",
      "source": "#Feature Extraction modeled on A Simple Model - Using Market and News Data by Bruno G. do Amaral on Kaggle\n\nnews_cols_agg = {\n    'urgency': ['min', 'count'],\n    'takeSequence': ['max'],\n    'bodySize': ['min', 'max', 'mean', 'std'],\n    'wordCount': ['min', 'max', 'mean', 'std'],\n    'sentenceCount': ['min', 'max', 'mean', 'std'],\n    'companyCount': ['min', 'max', 'mean', 'std'],\n    'marketCommentary': ['min', 'max', 'mean', 'std'],\n    'relevance': ['min', 'max', 'mean', 'std'],\n    'sentimentNegative': ['min', 'max', 'mean', 'std'],\n    'sentimentNeutral': ['min', 'max', 'mean', 'std'],\n    'sentimentPositive': ['min', 'max', 'mean', 'std'],\n    'sentimentWordCount': ['min', 'max', 'mean', 'std'],\n    'noveltyCount12H': ['min', 'max', 'mean', 'std'],\n    'noveltyCount24H': ['min', 'max', 'mean', 'std'],\n    'noveltyCount3D': ['min', 'max', 'mean', 'std'],\n    'noveltyCount5D': ['min', 'max', 'mean', 'std'],\n    'noveltyCount7D': ['min', 'max', 'mean', 'std'],\n    'volumeCounts12H': ['min', 'max', 'mean', 'std'],\n    'volumeCounts24H': ['min', 'max', 'mean', 'std'],\n    'volumeCounts3D': ['min', 'max', 'mean', 'std'],\n    'volumeCounts5D': ['min', 'max', 'mean', 'std'],\n    'volumeCounts7D': ['min', 'max', 'mean', 'std']\n}",
      "execution_count": 2,
      "outputs": []
    },
    {
      "metadata": {
        "trusted": true,
        "_uuid": "1325b80ed659b664abfe41b895678940b74b37ae"
      },
      "cell_type": "code",
      "source": "#Inject DOMAIN EXPERTISE\ndef augment_market_data(market_df):\n    market_df['dollar_volume'] = np.multiply(market_df['volume'], np.divide(np.add(market_df['open'], market_df['close']),2))\n    market_df['day_change'] = np.divide(np.subtract(market_df['close'],market_df['open']), market_df['open'])\n    for time in ['Open','Close']:\n        for adj in ['Raw','Mktres']:\n            market_df[\"change_\"+time+\"_\"+adj] = np.subtract(market_df['returns'+time+'Prev'+adj+'1'], market_df['returns'+time+'Prev'+adj+'10'])\n",
      "execution_count": 3,
      "outputs": []
    },
    {
      "metadata": {
        "trusted": true,
        "_uuid": "a9cdcdc1bbfe0463dec9748e4b2d3e169819da11"
      },
      "cell_type": "code",
      "source": "def augment_news_data(news_train_df):\n    news_train_df['sentimentScore'] = news_train_df['sentimentPositive'] - news_train_df['sentimentNegative']\n    news_cols_agg['sentimentScore'] = ['min','max','mean','std']\n    news_train_df['headlineLength'] = news_train_df['headline'].apply(len)\n    news_cols_agg['headlineLength'] = ['min','max','mean','std']\n    news_train_df['headlineWordLength'] = news_train_df['headline'].apply(lambda x: len(x.split()))\n    news_cols_agg['headlineWordLength'] = ['min','max','mean','std']\n    news_train_df['audienceCount'] = news_train_df['audiences'].apply(lambda x: len(x.split(',')))\n    news_cols_agg['audienceCount'] = ['min','max','mean','std']\n    news_train_df['subjectsCount'] = news_train_df['subjects'].apply(lambda x: len(x.split(',')))\n    news_cols_agg['subjectsCount'] = ['min','max','mean','std']",
      "execution_count": 4,
      "outputs": []
    },
    {
      "metadata": {
        "trusted": true,
        "_uuid": "df3b11b2770b7ae791bbadeb3a165b053c62fa1e",
        "scrolled": true
      },
      "cell_type": "code",
      "source": "augment_market_data(market_train_df)\nmarket_train_df.tail()",
      "execution_count": 5,
      "outputs": [
        {
          "output_type": "execute_result",
          "execution_count": 5,
          "data": {
            "text/plain": "                             time         ...         change_Close_Mktres\n4072951 2016-12-30 22:00:00+00:00         ...                    0.140133\n4072952 2016-12-30 22:00:00+00:00         ...                   -0.008727\n4072953 2016-12-30 22:00:00+00:00         ...                    0.071248\n4072954 2016-12-30 22:00:00+00:00         ...                    0.049645\n4072955 2016-12-30 22:00:00+00:00         ...                   -0.021506\n\n[5 rows x 22 columns]",
            "text/html": "<div>\n<style scoped>\n    .dataframe tbody tr th:only-of-type {\n        vertical-align: middle;\n    }\n\n    .dataframe tbody tr th {\n        vertical-align: top;\n    }\n\n    .dataframe thead th {\n        text-align: right;\n    }\n</style>\n<table border=\"1\" class=\"dataframe\">\n  <thead>\n    <tr style=\"text-align: right;\">\n      <th></th>\n      <th>time</th>\n      <th>assetCode</th>\n      <th>assetName</th>\n      <th>volume</th>\n      <th>close</th>\n      <th>open</th>\n      <th>returnsClosePrevRaw1</th>\n      <th>returnsOpenPrevRaw1</th>\n      <th>returnsClosePrevMktres1</th>\n      <th>returnsOpenPrevMktres1</th>\n      <th>returnsClosePrevRaw10</th>\n      <th>returnsOpenPrevRaw10</th>\n      <th>returnsClosePrevMktres10</th>\n      <th>returnsOpenPrevMktres10</th>\n      <th>returnsOpenNextMktres10</th>\n      <th>universe</th>\n      <th>dollar_volume</th>\n      <th>day_change</th>\n      <th>change_Open_Raw</th>\n      <th>change_Open_Mktres</th>\n      <th>change_Close_Raw</th>\n      <th>change_Close_Mktres</th>\n    </tr>\n  </thead>\n  <tbody>\n    <tr>\n      <th>4072951</th>\n      <td>2016-12-30 22:00:00+00:00</td>\n      <td>ZIOP.O</td>\n      <td>ZIOPHARM Oncology Inc</td>\n      <td>1608829.0</td>\n      <td>5.35</td>\n      <td>5.37</td>\n      <td>-0.003724</td>\n      <td>0.000000</td>\n      <td>0.000536</td>\n      <td>-0.001868</td>\n      <td>-0.165367</td>\n      <td>-0.138042</td>\n      <td>-0.139597</td>\n      <td>-0.135913</td>\n      <td>0.051189</td>\n      <td>0.0</td>\n      <td>8.623323e+06</td>\n      <td>-0.003724</td>\n      <td>0.138042</td>\n      <td>0.134046</td>\n      <td>0.161642</td>\n      <td>0.140133</td>\n    </tr>\n    <tr>\n      <th>4072952</th>\n      <td>2016-12-30 22:00:00+00:00</td>\n      <td>ZLTQ.O</td>\n      <td>ZELTIQ Aesthetics Inc</td>\n      <td>347830.0</td>\n      <td>43.52</td>\n      <td>43.62</td>\n      <td>-0.000689</td>\n      <td>0.000000</td>\n      <td>-0.000515</td>\n      <td>0.000493</td>\n      <td>0.002996</td>\n      <td>0.002989</td>\n      <td>0.008213</td>\n      <td>0.003210</td>\n      <td>-0.048555</td>\n      <td>0.0</td>\n      <td>1.515495e+07</td>\n      <td>-0.002293</td>\n      <td>-0.002989</td>\n      <td>-0.002717</td>\n      <td>-0.003685</td>\n      <td>-0.008727</td>\n    </tr>\n    <tr>\n      <th>4072953</th>\n      <td>2016-12-30 22:00:00+00:00</td>\n      <td>ZNGA.O</td>\n      <td>Zynga Inc</td>\n      <td>7396601.0</td>\n      <td>2.57</td>\n      <td>2.58</td>\n      <td>-0.011538</td>\n      <td>0.000000</td>\n      <td>-0.006004</td>\n      <td>-0.001034</td>\n      <td>-0.091873</td>\n      <td>-0.078571</td>\n      <td>-0.077252</td>\n      <td>-0.077188</td>\n      <td>0.011703</td>\n      <td>0.0</td>\n      <td>1.904625e+07</td>\n      <td>-0.003876</td>\n      <td>0.078571</td>\n      <td>0.076154</td>\n      <td>0.080334</td>\n      <td>0.071248</td>\n    </tr>\n    <tr>\n      <th>4072954</th>\n      <td>2016-12-30 22:00:00+00:00</td>\n      <td>ZTO.N</td>\n      <td>Unknown</td>\n      <td>3146519.0</td>\n      <td>12.07</td>\n      <td>12.50</td>\n      <td>-0.029743</td>\n      <td>0.007252</td>\n      <td>-0.028460</td>\n      <td>0.006719</td>\n      <td>-0.065066</td>\n      <td>-0.042146</td>\n      <td>-0.078104</td>\n      <td>-0.043813</td>\n      <td>0.083367</td>\n      <td>1.0</td>\n      <td>3.865499e+07</td>\n      <td>-0.034400</td>\n      <td>0.049398</td>\n      <td>0.050532</td>\n      <td>0.035323</td>\n      <td>0.049645</td>\n    </tr>\n    <tr>\n      <th>4072955</th>\n      <td>2016-12-30 22:00:00+00:00</td>\n      <td>ZTS.N</td>\n      <td>Zoetis Inc</td>\n      <td>1701204.0</td>\n      <td>53.53</td>\n      <td>53.64</td>\n      <td>-0.001678</td>\n      <td>0.003091</td>\n      <td>0.005060</td>\n      <td>0.002885</td>\n      <td>0.023127</td>\n      <td>0.028177</td>\n      <td>0.026566</td>\n      <td>0.028719</td>\n      <td>-0.016220</td>\n      <td>1.0</td>\n      <td>9.115902e+07</td>\n      <td>-0.002051</td>\n      <td>-0.025086</td>\n      <td>-0.025834</td>\n      <td>-0.024805</td>\n      <td>-0.021506</td>\n    </tr>\n  </tbody>\n</table>\n</div>"
          },
          "metadata": {}
        }
      ]
    },
    {
      "metadata": {
        "trusted": true,
        "_uuid": "416279878346d482bc4ade7fed1e6895e4ce167c"
      },
      "cell_type": "code",
      "source": "augment_news_data(news_train_df)\nnews_train_df.tail()",
      "execution_count": 6,
      "outputs": [
        {
          "output_type": "execute_result",
          "execution_count": 6,
          "data": {
            "text/plain": "                             time      ...      subjectsCount\n9328745 2016-12-30 21:56:06+00:00      ...                  9\n9328746 2016-12-30 21:56:28+00:00      ...                 13\n9328747 2016-12-30 21:57:00+00:00      ...                 15\n9328748 2016-12-30 21:58:53+00:00      ...                 13\n9328749 2016-12-30 22:00:00+00:00      ...                 14\n\n[5 rows x 40 columns]",
            "text/html": "<div>\n<style scoped>\n    .dataframe tbody tr th:only-of-type {\n        vertical-align: middle;\n    }\n\n    .dataframe tbody tr th {\n        vertical-align: top;\n    }\n\n    .dataframe thead th {\n        text-align: right;\n    }\n</style>\n<table border=\"1\" class=\"dataframe\">\n  <thead>\n    <tr style=\"text-align: right;\">\n      <th></th>\n      <th>time</th>\n      <th>sourceTimestamp</th>\n      <th>firstCreated</th>\n      <th>sourceId</th>\n      <th>headline</th>\n      <th>urgency</th>\n      <th>takeSequence</th>\n      <th>provider</th>\n      <th>subjects</th>\n      <th>audiences</th>\n      <th>bodySize</th>\n      <th>companyCount</th>\n      <th>headlineTag</th>\n      <th>marketCommentary</th>\n      <th>sentenceCount</th>\n      <th>wordCount</th>\n      <th>assetCodes</th>\n      <th>assetName</th>\n      <th>firstMentionSentence</th>\n      <th>relevance</th>\n      <th>sentimentClass</th>\n      <th>sentimentNegative</th>\n      <th>sentimentNeutral</th>\n      <th>sentimentPositive</th>\n      <th>sentimentWordCount</th>\n      <th>noveltyCount12H</th>\n      <th>noveltyCount24H</th>\n      <th>noveltyCount3D</th>\n      <th>noveltyCount5D</th>\n      <th>noveltyCount7D</th>\n      <th>volumeCounts12H</th>\n      <th>volumeCounts24H</th>\n      <th>volumeCounts3D</th>\n      <th>volumeCounts5D</th>\n      <th>volumeCounts7D</th>\n      <th>sentimentScore</th>\n      <th>headlineLength</th>\n      <th>headlineWordLength</th>\n      <th>audienceCount</th>\n      <th>subjectsCount</th>\n    </tr>\n  </thead>\n  <tbody>\n    <tr>\n      <th>9328745</th>\n      <td>2016-12-30 21:56:06+00:00</td>\n      <td>2016-12-30 21:56:06+00:00</td>\n      <td>2016-12-30 21:56:06+00:00</td>\n      <td>fc80724160cc7bf4</td>\n      <td>INTREXON - ON DEC 30, CO, THIRD SECURITY EXECU...</td>\n      <td>1</td>\n      <td>1</td>\n      <td>RTRS</td>\n      <td>{'BLR', 'HECA', 'PHMR', 'MRCH', 'US', 'RTRS', ...</td>\n      <td>{'E', 'U'}</td>\n      <td>0</td>\n      <td>1</td>\n      <td></td>\n      <td>False</td>\n      <td>1</td>\n      <td>35</td>\n      <td>{'XON.N'}</td>\n      <td>Intrexon Corp</td>\n      <td>1</td>\n      <td>1.0</td>\n      <td>1</td>\n      <td>0.115706</td>\n      <td>0.410445</td>\n      <td>0.473849</td>\n      <td>35</td>\n      <td>0</td>\n      <td>0</td>\n      <td>0</td>\n      <td>0</td>\n      <td>0</td>\n      <td>0</td>\n      <td>1</td>\n      <td>10</td>\n      <td>10</td>\n      <td>10</td>\n      <td>0.358143</td>\n      <td>148</td>\n      <td>28</td>\n      <td>2</td>\n      <td>9</td>\n    </tr>\n    <tr>\n      <th>9328746</th>\n      <td>2016-12-30 21:56:28+00:00</td>\n      <td>2016-12-30 21:56:28+00:00</td>\n      <td>2016-12-30 21:56:06+00:00</td>\n      <td>2e3e5407e186dd51</td>\n      <td>INTREXON CORP - AMENDMENT EXTENDS TERM OF SERV...</td>\n      <td>1</td>\n      <td>2</td>\n      <td>RTRS</td>\n      <td>{'BLR', 'DBT', 'HECA', 'PHMR', 'MRCH', 'BACT',...</td>\n      <td>{'E', 'U'}</td>\n      <td>0</td>\n      <td>1</td>\n      <td></td>\n      <td>False</td>\n      <td>1</td>\n      <td>20</td>\n      <td>{'XON.N'}</td>\n      <td>Intrexon Corp</td>\n      <td>1</td>\n      <td>1.0</td>\n      <td>1</td>\n      <td>0.032272</td>\n      <td>0.122635</td>\n      <td>0.845093</td>\n      <td>20</td>\n      <td>0</td>\n      <td>0</td>\n      <td>1</td>\n      <td>1</td>\n      <td>1</td>\n      <td>1</td>\n      <td>2</td>\n      <td>11</td>\n      <td>11</td>\n      <td>11</td>\n      <td>0.812821</td>\n      <td>100</td>\n      <td>17</td>\n      <td>2</td>\n      <td>13</td>\n    </tr>\n    <tr>\n      <th>9328747</th>\n      <td>2016-12-30 21:57:00+00:00</td>\n      <td>2016-12-30 21:57:00+00:00</td>\n      <td>2016-12-30 21:57:00+00:00</td>\n      <td>cef1bb88f92ca104</td>\n      <td>EQUITY ALERT: Rosen Law Firm Announces Investi...</td>\n      <td>3</td>\n      <td>1</td>\n      <td>BSW</td>\n      <td>{'CMSS', 'CLJ', 'GEN', 'NEWR', 'HECA', 'PHMR',...</td>\n      <td>{'BSW', 'CNR'}</td>\n      <td>3734</td>\n      <td>1</td>\n      <td></td>\n      <td>False</td>\n      <td>16</td>\n      <td>664</td>\n      <td>{'SGEN.O', 'SGEN.OQ'}</td>\n      <td>Seattle Genetics Inc</td>\n      <td>1</td>\n      <td>1.0</td>\n      <td>-1</td>\n      <td>0.651900</td>\n      <td>0.227707</td>\n      <td>0.120393</td>\n      <td>360</td>\n      <td>0</td>\n      <td>0</td>\n      <td>3</td>\n      <td>4</td>\n      <td>4</td>\n      <td>1</td>\n      <td>2</td>\n      <td>18</td>\n      <td>41</td>\n      <td>41</td>\n      <td>-0.531507</td>\n      <td>120</td>\n      <td>17</td>\n      <td>2</td>\n      <td>15</td>\n    </tr>\n    <tr>\n      <th>9328748</th>\n      <td>2016-12-30 21:58:53+00:00</td>\n      <td>2016-12-30 21:58:53+00:00</td>\n      <td>2016-12-30 21:58:53+00:00</td>\n      <td>c26c3df1804571a6</td>\n      <td>PROFESSIONAL DIVERSITY NETWORK INC - FILES FOR...</td>\n      <td>1</td>\n      <td>1</td>\n      <td>RTRS</td>\n      <td>{'BLR', 'SWIT', 'ITSE', 'SISU', 'BACT', 'TMT',...</td>\n      <td>{'E', 'U'}</td>\n      <td>0</td>\n      <td>1</td>\n      <td></td>\n      <td>False</td>\n      <td>1</td>\n      <td>23</td>\n      <td>{'IPDN.O', 'IPDN.OQ'}</td>\n      <td>Professional Diversity Network Inc</td>\n      <td>1</td>\n      <td>1.0</td>\n      <td>-1</td>\n      <td>0.816252</td>\n      <td>0.126928</td>\n      <td>0.056819</td>\n      <td>23</td>\n      <td>0</td>\n      <td>0</td>\n      <td>0</td>\n      <td>0</td>\n      <td>0</td>\n      <td>0</td>\n      <td>0</td>\n      <td>3</td>\n      <td>3</td>\n      <td>3</td>\n      <td>-0.759433</td>\n      <td>131</td>\n      <td>22</td>\n      <td>2</td>\n      <td>13</td>\n    </tr>\n    <tr>\n      <th>9328749</th>\n      <td>2016-12-30 22:00:00+00:00</td>\n      <td>2016-12-30 22:00:00+00:00</td>\n      <td>2016-12-30 22:00:00+00:00</td>\n      <td>daea2d46dc7f5303</td>\n      <td>JPMorgan China Region Fund, Inc. Board to Subm...</td>\n      <td>3</td>\n      <td>1</td>\n      <td>BSW</td>\n      <td>{'CMSS', 'NEWR', 'INVT', 'BACT', 'BSUP', 'INDS...</td>\n      <td>{'BSW', 'CNR'}</td>\n      <td>2969</td>\n      <td>1</td>\n      <td></td>\n      <td>False</td>\n      <td>15</td>\n      <td>492</td>\n      <td>{'JFC.N'}</td>\n      <td>JPMorgan China Region Fund Inc</td>\n      <td>1</td>\n      <td>1.0</td>\n      <td>1</td>\n      <td>0.130152</td>\n      <td>0.388845</td>\n      <td>0.481002</td>\n      <td>383</td>\n      <td>0</td>\n      <td>0</td>\n      <td>0</td>\n      <td>0</td>\n      <td>0</td>\n      <td>0</td>\n      <td>0</td>\n      <td>0</td>\n      <td>0</td>\n      <td>0</td>\n      <td>0.350850</td>\n      <td>117</td>\n      <td>19</td>\n      <td>2</td>\n      <td>14</td>\n    </tr>\n  </tbody>\n</table>\n</div>"
          },
          "metadata": {}
        }
      ]
    },
    {
      "metadata": {
        "trusted": true,
        "_uuid": "4c1a444d0ccbd625ae8b9aea2198e304061995e0"
      },
      "cell_type": "code",
      "source": "globaltime = market_train_df.iloc[0]['time'].timetz()\n\ndef get_dates(times):\n    times = times+pd.DateOffset(hours=2)\n    return times.apply(lambda ts: pd.Timestamp.combine(ts.date(),globaltime))",
      "execution_count": 7,
      "outputs": []
    },
    {
      "metadata": {
        "_uuid": "8f2839f25d086af736a60e9eeb907d3b93b6e0e5",
        "_cell_guid": "b1076dfc-b9ad-4769-8c92-a6c4dae69d19",
        "trusted": true
      },
      "cell_type": "code",
      "source": "def merge_news_market_data(news_df, market_df):\n    \n    #represent assetcodes as lists\n    news_df['assetCodes'] = news_df['assetCodes'].str.findall(f\"'([\\w\\./]+)'\")    \n\n    #convert times to dates\n    news_df['time'] = get_dates(news_df['time'])\n\n    # assetCodes_expanded and assetCodes_index s.t. assetCodes_expanded[i] in news_df.iloc[assetCodes_index[i]].assetCodes\n    assetCodes_expanded = list(chain(*news_df['assetCodes']))\n    assetCodes_index = news_df.index.repeat( news_df['assetCodes'].apply(len) )\n\n    # helper table for merge\n    df_assetCodes = pd.DataFrame({'level_0': assetCodes_index, 'assetCode': assetCodes_expanded})\n\n    # Get new dataframe with 1 row per assetcode, per news article\n    news_cols = ['time', 'assetCodes'] + sorted(news_cols_agg.keys())\n    news_df_expanded = pd.merge(df_assetCodes, news_df[news_cols], left_on='level_0', right_index=True, suffixes=(['','_old']))\n    del news_df\n    \n    news_df_aggregated = news_df_expanded.groupby(['time', 'assetCode']).agg(news_cols_agg)\n\n    # Free memory\n    del df_assetCodes, assetCodes_expanded, assetCodes_index, news_cols, news_df_expanded, \n\n    # save space with floats\n    news_df_aggregated = news_df_aggregated.apply(np.float32)\n\n    #flatten columns\n    news_df_aggregated.columns = ['_'.join(col).strip() for col in news_df_aggregated.columns.values]\n\n    market_df = market_df.join(news_df_aggregated, on=['time', 'assetCode'])\n\n    del news_df_aggregated\n    \n    return market_df",
      "execution_count": 8,
      "outputs": []
    },
    {
      "metadata": {
        "trusted": true,
        "_uuid": "8346942824732691306932d2a735ca80fb543813"
      },
      "cell_type": "code",
      "source": "def getxy(merged_df):\n    y = merged_df['returnsOpenNextMktres10'].values\n    X = merged_df.drop(columns = ['returnsOpenNextMktres10', 'assetCode','assetName','time', 'universe'], inplace=False)\n    X.fillna(0, inplace=True)\n    X = X.values\n    return X, y",
      "execution_count": 9,
      "outputs": []
    },
    {
      "metadata": {
        "trusted": true,
        "_uuid": "a3849340995c260d739b630238261ecb064e6ab6"
      },
      "cell_type": "code",
      "source": "def clean_data(merged_df):\n    merged_df = merged_df[merged_df[\"returnsOpenNextMktres10\"]>-1]\n    merged_df = merged_df[merged_df[\"returnsOpenNextMktres10\"]<1]\n    merged_df = merged_df[merged_df[\"close\"] < 2*merged_df[\"open\"]]\n    merged_df = merged_df[2*merged_df[\"close\"] > merged_df[\"open\"]]\n    return merged_df",
      "execution_count": 10,
      "outputs": []
    },
    {
      "metadata": {
        "trusted": true,
        "_uuid": "65a584a07f8235e097e4c4f94b6fe10930b24a6f"
      },
      "cell_type": "code",
      "source": "merged_data = merge_news_market_data(news_train_df, market_train_df)\ndel market_train_df, news_train_df\ncols = list(merged_data.drop(columns = ['returnsOpenNextMktres10', 'universe'], inplace=False).columns)\nprint(\"Merged!\")\n\ntrain, validate, test = np.split(merged_data.sample(frac=1), [int(.6*len(merged_data)), int(.8*len(merged_data))])\n\ntrain_indices = train.index.values\nval_indices = validate.index.values\ntest_indices = test.index.values",
      "execution_count": 11,
      "outputs": [
        {
          "output_type": "stream",
          "text": "Merged!\n",
          "name": "stdout"
        }
      ]
    },
    {
      "metadata": {
        "trusted": true,
        "_uuid": "2db7ab9de3d254c50ef25f4007e1327d086cc582"
      },
      "cell_type": "code",
      "source": "Xtrain,ytrain = getxy(clean_data(merged_data.loc[train_indices]))\nXval,yval = getxy(clean_data(merged_data.loc[val_indices]))\nXtest,ytest = getxy(merged_data.loc[test_indices])\ndel merged_data",
      "execution_count": 12,
      "outputs": []
    },
    {
      "metadata": {
        "trusted": true,
        "_uuid": "4d985c314c98dbb70778b0f8885d7ba86136b2fb",
        "scrolled": true
      },
      "cell_type": "code",
      "source": "model = linear_model.LinearRegression()\nmodel.fit(Xtrain,ytrain)\n#print(model.score(Xtest, ytest))",
      "execution_count": 13,
      "outputs": [
        {
          "output_type": "execute_result",
          "execution_count": 13,
          "data": {
            "text/plain": "LinearRegression(copy_X=True, fit_intercept=True, n_jobs=None,\n         normalize=False)"
          },
          "metadata": {}
        }
      ]
    },
    {
      "metadata": {
        "trusted": true,
        "_uuid": "0e68b5ebee15c27bfcce0c1e464e62401bdf2f23"
      },
      "cell_type": "code",
      "source": "def training_accuracy(y_pred, y_true):\n    MSE = metrics.mean_squared_error(y_true, y_pred)\n    accuracy = metrics.accuracy_score(np.array(y_true)>0,np.array(y_pred)>0)\n    plt.hist(y_true, bins=np.linspace(-0.5,0.5,150), alpha=0.3)\n    plt.hist(y_pred, bins=np.linspace(-0.5,0.5,150), alpha=0.3, color='darkorange')\n    plt.legend(['Ground truth', 'Predicted'])\n    plt.xlabel(\"Confidence\")\n    plt.ylabel(\"Count\")\n    plt.title(\"predicted confidence\")\n    plt.show()\n    return MSE, accuracy",
      "execution_count": 14,
      "outputs": []
    },
    {
      "metadata": {
        "trusted": true,
        "_uuid": "4f37334353cb3aa85f6cecd990eb26c4e42d2389",
        "scrolled": true
      },
      "cell_type": "code",
      "source": "training_accuracy(model.predict(Xtest),ytest)",
      "execution_count": 15,
      "outputs": [
        {
          "output_type": "display_data",
          "data": {
            "text/plain": "<Figure size 432x288 with 1 Axes>",
            "image/png": "[encoded data removed]"
          },
          "metadata": {}
        },
        {
          "output_type": "execute_result",
          "execution_count": 15,
          "data": {
            "text/plain": "(0.004229868217330871, 0.5369666666666667)"
          },
          "metadata": {}
        }
      ]
    },
    {
      "metadata": {
        "trusted": true,
        "_uuid": "a525733ea2fc8ae7fe59895dd83d0a38d4a8b218"
      },
      "cell_type": "code",
      "source": "def error_histogram(y_pred, y_true):\n    plt.style.use(\"seaborn\")\n    error = np.subtract(y_pred, y_true)\n    print(np.std(error))\n    plt.hist(error, bins = np.linspace(-0.25, 0.25, 100), alpha=0.3, color='r')\n    plt.xlabel(\"Error in 10-day return\")\n    plt.ylabel(\"Frequency\")\n    plt.title(\"Error Histogram\")\n    plt.show()\n    ",
      "execution_count": 21,
      "outputs": []
    },
    {
      "metadata": {
        "trusted": true,
        "_uuid": "17efad67f3ab6f2e4bc3cd3aa9699f62425e77c7"
      },
      "cell_type": "code",
      "source": "error_histogram(model.predict(Xtest), ytest)",
      "execution_count": 22,
      "outputs": [
        {
          "output_type": "stream",
          "text": "0.0650367971298488\n",
          "name": "stdout"
        },
        {
          "output_type": "display_data",
          "data": {
            "text/plain": "<Figure size 576x396 with 1 Axes>",
            "image/png": "[encoded data removed]"
          },
          "metadata": {}
        }
      ]
    },
    {
      "metadata": {
        "trusted": true,
        "_uuid": "2b770741609c48fcd2f150eddadf2b18cb7a1860"
      },
      "cell_type": "code",
      "source": "'''\nX = merged_data.loc[train_indices].drop(columns = ['returnsOpenNextMktres10', 'assetCode','assetName','time', 'universe'], inplace=False)\nX.fillna(0, inplace=True)\nimportances = []\nfor i, column in enumerate(X.columns):\n    importances.append((model.coef_[i]*np.std(X[column]),column))\n'''",
      "execution_count": null,
      "outputs": []
    },
    {
      "metadata": {
        "trusted": true,
        "_uuid": "0f3e2ab4df76ca3ca8f8dacb89784e7701af71d9",
        "scrolled": true
      },
      "cell_type": "code",
      "source": "'''\nimportances.sort(key=lambda x: -abs(x[0]))\nplotcount = 7\nplt.figure(figsize=(4,2))\nplt.bar(x = range(plotcount), height = [x[0] for x in importances[:plotcount]])\nplt.xticks(range(plotcount),[importance[1] for importance in importances[:plotcount]], fontsize='small',rotation='45', horizontalalignment='right')\nplt.ylabel('Feature Significance')\nplt.show()\n'''",
      "execution_count": null,
      "outputs": []
    },
    {
      "metadata": {
        "_uuid": "c71b340d46863c6b7787fbb5ca790fc73876ba03"
      },
      "cell_type": "markdown",
      "source": "The model has been trained. Run the model on the provided test data."
    },
    {
      "metadata": {
        "trusted": true,
        "_uuid": "fbe38e40703e9e221a54394fdcd3129a4ca8bc33"
      },
      "cell_type": "code",
      "source": "def getX(merged_df):\n    X = merged_df.drop(columns = ['assetCode','assetName','time'], inplace=False)\n    X.fillna(0, inplace=True)\n    X = X.values\n    return X",
      "execution_count": null,
      "outputs": []
    },
    {
      "metadata": {
        "trusted": true,
        "_uuid": "b513be263e872a00f4fb4ea17e641689c18b47d0"
      },
      "cell_type": "code",
      "source": "def make_predictions(merged_obs_df, predictions_df):\n    X = getX(merged_obs_df)\n    predictions = model.predict(X)\n    predictions = np.divide(predictions - np.min(predictions), np.max(predictions)-np.min(predictions))\n    predictions = 2*predictions-1\n    predictions_df.confidenceValue = predictions",
      "execution_count": null,
      "outputs": []
    },
    {
      "metadata": {
        "trusted": true,
        "_uuid": "b70a791395b094fd9de1c37e9d5f7548efa8c99d",
        "scrolled": true
      },
      "cell_type": "code",
      "source": "days = env.get_prediction_days()",
      "execution_count": null,
      "outputs": []
    },
    {
      "metadata": {
        "trusted": true,
        "_uuid": "465293374bb597e0df4b7793fcf9b5184106995d"
      },
      "cell_type": "code",
      "source": "i=0\nfor (market_obs_df, news_obs_df, predictions_template_df) in days:\n    i+=1\n    if i%10 == 0:\n        print(i)\n    augment_market_data(market_obs_df)\n    augment_news_data(news_obs_df)\n    merged_obs_df = merge_news_market_data(news_obs_df, market_obs_df)\n    make_predictions(merged_obs_df, predictions_template_df)\n    env.predict(predictions_template_df)\nprint(\"Done!\")",
      "execution_count": null,
      "outputs": []
    },
    {
      "metadata": {
        "trusted": true,
        "_uuid": "59ec12b2a2a84c344c22cda810e00bbf1370221f"
      },
      "cell_type": "code",
      "source": "env.write_submission_file()",
      "execution_count": null,
      "outputs": []
    }
  ],
  "metadata": {
    "kernelspec": {
      "display_name": "Python 3",
      "language": "python",
      "name": "python3"
    },
    "language_info": {
      "name": "python",
      "version": "3.6.6",
      "mimetype": "text/x-python",
      "codemirror_mode": {
        "name": "ipython",
        "version": 3
      },
      "pygments_lexer": "ipython3",
      "nbconvert_exporter": "python",
      "file_extension": ".py"
    }
  },
  "nbformat": 4,
  "nbformat_minor": 1
}