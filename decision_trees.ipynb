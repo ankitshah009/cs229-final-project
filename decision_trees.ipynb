{
  "cells": [
    {
      "metadata": {
        "_uuid": "8f2839f25d086af736a60e9eeb907d3b93b6e0e5",
        "_cell_guid": "b1076dfc-b9ad-4769-8c92-a6c4dae69d19",
        "trusted": true
      },
      "cell_type": "code",
      "source": "from kaggle.competitions import twosigmanews\nimport lightgbm as lgb\nimport numpy as np\nimport pandas as pd\nimport matplotlib.pyplot as plt\nfrom itertools import chain\nimport sklearn\nfrom sklearn.metrics import accuracy_score\n\n%matplotlib inline",
      "execution_count": 1,
      "outputs": []
    },
    {
      "metadata": {
        "trusted": true,
        "_uuid": "fba8c359ca9f08fe0f0ab824c325ed9ab77c9e63"
      },
      "cell_type": "code",
      "source": "env = twosigmanews.make_env()\n(market_train_df, news_train_df) = env.get_training_data()",
      "execution_count": 2,
      "outputs": [
        {
          "output_type": "stream",
          "text": "Loading the data... This could take a minute.\nDone!\n",
          "name": "stdout"
        }
      ]
    },
    {
      "metadata": {
        "trusted": true,
        "_uuid": "b092c146da2a745bf03866d22467b09a83b2730a"
      },
      "cell_type": "code",
      "source": "market_train_df = market_train_df.tail(30000)\nnews_train_df = news_train_df.tail(60000)",
      "execution_count": 3,
      "outputs": []
    },
    {
      "metadata": {
        "trusted": true,
        "_uuid": "f8174e0fe351b1c2c667fb463406975e941aba9c"
      },
      "cell_type": "code",
      "source": "news_cols_agg = {\n    'urgency': ['min', 'count'],\n    'takeSequence': ['max'],\n    'bodySize': ['min', 'max', 'mean', 'std'],\n    'wordCount': ['min', 'max', 'mean', 'std'],\n    'sentenceCount': ['min', 'max', 'mean', 'std'],\n    'companyCount': ['min', 'max', 'mean', 'std'],\n    'marketCommentary': ['min', 'max', 'mean', 'std'],\n    'relevance': ['min', 'max', 'mean', 'std'],\n    'sentimentNegative': ['min', 'max', 'mean', 'std'],\n    'sentimentNeutral': ['min', 'max', 'mean', 'std'],\n    'sentimentPositive': ['min', 'max', 'mean', 'std'],\n    'sentimentWordCount': ['min', 'max', 'mean', 'std'],\n    'noveltyCount12H': ['min', 'max', 'mean', 'std'],\n    'noveltyCount24H': ['min', 'max', 'mean', 'std'],\n    'noveltyCount3D': ['min', 'max', 'mean', 'std'],\n    'noveltyCount5D': ['min', 'max', 'mean', 'std'],\n    'noveltyCount7D': ['min', 'max', 'mean', 'std'],\n    'volumeCounts12H': ['min', 'max', 'mean', 'std'],\n    'volumeCounts24H': ['min', 'max', 'mean', 'std'],\n    'volumeCounts3D': ['min', 'max', 'mean', 'std'],\n    'volumeCounts5D': ['min', 'max', 'mean', 'std'],\n    'volumeCounts7D': ['min', 'max', 'mean', 'std']\n}",
      "execution_count": 4,
      "outputs": []
    },
    {
      "metadata": {
        "trusted": true,
        "_uuid": "2c5a87dde9b7931382da32d0b362116fb8fbc94c"
      },
      "cell_type": "code",
      "source": "def join_market_news(market_train_df, news_train_df):\n    news_train_df['assetCodes'] = news_train_df['assetCodes'].str.findall(f\"'([\\w\\./]+)'\")    \n    \n    # Expand assetCodes\n    assetCodes_expanded = list(chain(*news_train_df['assetCodes']))\n    assetCodes_index = news_train_df.index.repeat( news_train_df['assetCodes'].apply(len) )\n    assert len(assetCodes_index) == len(assetCodes_expanded)\n    df_assetCodes = pd.DataFrame({'level_0': assetCodes_index, 'assetCode': assetCodes_expanded})\n\n    # Expand news\n    news_cols = ['time', 'assetCodes'] + sorted(news_cols_agg.keys())\n    news_train_df_expanded = pd.merge(df_assetCodes, news_train_df[news_cols], left_on='level_0', right_index=True, suffixes=(['','_old']))\n    del news_train_df, df_assetCodes\n\n    # Aggregate news features\n    news_train_df_aggregated = news_train_df_expanded.groupby(['time', 'assetCode']).agg(news_cols_agg)\n    del news_train_df_expanded\n    news_train_df_aggregated = news_train_df_aggregated.apply(np.float32)\n\n    # Flatten\n    news_train_df_aggregated.columns = ['_'.join(col).strip() for col in news_train_df_aggregated.columns.values]\n\n    # Join\n    market_train_df = market_train_df.join(news_train_df_aggregated, on=['time', 'assetCode'])\n    del news_train_df_aggregated\n    \n    return market_train_df",
      "execution_count": 5,
      "outputs": []
    },
    {
      "metadata": {
        "trusted": true,
        "_uuid": "969511254abbe99bfbb38c4e85422596635cbd30"
      },
      "cell_type": "code",
      "source": "def get_xy(market_train_df, news_train_df, le=None):\n    x, le = get_x(market_train_df, news_train_df)\n    y = market_train_df['returnsOpenNextMktres10'].clip(-1, 1)\n    return x, y, le\n\n\ndef label_encode(series, min_count):\n    vc = series.value_counts()\n    le = {v:k for k, v in enumerate(vc.index[vc >= min_count])}\n    return le\n\n\ndef get_x(market_train_df, news_train_df, le=None):\n    # Ensure times are correct\n    news_train_df['time'] = (news_train_df['time'] - np.timedelta64(22,'h')).dt.ceil('1D')\n    market_train_df['time'] = market_train_df['time'].dt.floor('1D')\n\n    # Join\n    x = join_market_news(market_train_df, news_train_df)\n    \n    # Encode assetName and assetCode\n    if le is None:\n        le_assetCode = label_encode(x['assetCode'], min_count=10)\n        le_assetName = label_encode(x['assetName'], min_count=5)\n    else:\n        le_assetCode, le_assetName = le\n        \n    x['assetCode'] = x['assetCode'].map(le_assetCode).fillna(-1).astype(int)\n    x['assetName'] = x['assetName'].map(le_assetName).fillna(-1).astype(int)\n    \n    try:\n        x.drop(columns=['returnsOpenNextMktres10'], inplace=True)\n    except:\n        pass\n    try:\n        x.drop(columns=['universe'], inplace=True)\n    except:\n        pass\n    x['dayofweek'], x['month'] = x.time.dt.dayofweek, x.time.dt.month\n    x.drop(columns='time', inplace=True)\n\n    # Fix mixed-type columns\n    for col in ['marketCommentary_min', 'marketCommentary_max']:\n        x[col] = x[col].astype(float)\n    \n    return x, (le_assetCode, le_assetName)",
      "execution_count": 6,
      "outputs": []
    },
    {
      "metadata": {
        "trusted": true,
        "_uuid": "31cd42303a383d2a6537c6f7b99ec2d298f26ff7"
      },
      "cell_type": "code",
      "source": "X, y, le = get_xy(market_train_df, news_train_df)",
      "execution_count": 7,
      "outputs": []
    },
    {
      "metadata": {
        "trusted": true,
        "_uuid": "068cd43c59e905593126201737f8a82d1024cdfb"
      },
      "cell_type": "code",
      "source": "universe = market_train_df['universe']\ntime = market_train_df['time']\n\ndel market_train_df, news_train_df",
      "execution_count": 8,
      "outputs": []
    },
    {
      "metadata": {
        "trusted": true,
        "_uuid": "676b28bbf482d680e642c6c7450bf5c918399467"
      },
      "cell_type": "code",
      "source": "n_train = int(X.shape[0] * 0.6)\nn_test = int(X.shape[0] * 0.8)\n\nX_train, y_train = X.iloc[:n_train], y.iloc[:n_train]\nX_valid, y_valid = X.iloc[n_train:n_test], y.iloc[n_train:n_test]\nX_test, y_test = X.iloc[n_test:], y.iloc[n_test:]",
      "execution_count": 9,
      "outputs": []
    },
    {
      "metadata": {
        "trusted": true,
        "_uuid": "8a172258a46c7db96e85964d6d56c24f0ec56f0c"
      },
      "cell_type": "code",
      "source": "u_valid = (universe.iloc[n_train:n_test] > 0)\nt_valid = time.iloc[n_train:n_test]\n\nX_valid = X_valid[u_valid]\ny_valid = y_valid[u_valid]\nt_valid = t_valid[u_valid]\ndel u_valid",
      "execution_count": 10,
      "outputs": []
    },
    {
      "metadata": {
        "trusted": true,
        "_uuid": "31cd42303a383d2a6537c6f7b99ec2d298f26ff7"
      },
      "cell_type": "code",
      "source": "train_cols = X.columns.tolist()\ncategorical_cols = ['assetCode', 'assetName', 'dayofweek', 'month']\n\ndtrain = lgb.Dataset(X_train.values, y_train, feature_name=train_cols, categorical_feature=categorical_cols, free_raw_data=False)\ndvalid = lgb.Dataset(X_valid.values, y_valid, feature_name=train_cols, categorical_feature=categorical_cols, free_raw_data=False)",
      "execution_count": 11,
      "outputs": []
    },
    {
      "metadata": {
        "_uuid": "8f9c63724d92223daa89cb408c082c7cab6de22f"
      },
      "cell_type": "markdown",
      "source": "Inspired by \"A simple mode - using the market and news\" and \"Two Sigma Financial News Competition Official Getting Started Kernel\". "
    },
    {
      "metadata": {
        "trusted": true,
        "_uuid": "905b831e28cd2b579bc0153c4bcb699aaf3cc524"
      },
      "cell_type": "code",
      "source": "def f(x):\n    print(x)    \n    \n    params = dict(\n    objective = 'mse',\n    learning_rate = x[0],\n    num_leaves = x[1],\n    max_depth = -1,\n    bagging_fraction = 0.75,\n    bagging_freq = 2,\n    feature_fraction = 0.5,\n    lambda_l1 = 0.0,\n    lambda_l2 = 1.0,\n    min_data_in_leaf= x[2],\n    max_bin= x[3],\n    seed = 8 \n)\n    evals_result = {}\n    gbm = lgb.train(params, dtrain, num_boost_round=1000, valid_sets=(dvalid,), valid_names=('valid',), verbose_eval=25,\n              early_stopping_rounds=20, evals_result=evals_result)\n    \n    return sklearn.metrics.mean_squared_error(gbm.predict(X_valid, num_iteration=gbm.best_iteration), y_valid.astype(float))\n\nparams = [\n    (0.05, 0.25), #learning_rate\n    (100, 2500), #num_leaves\n    (150, 250), #min_data_in_leaf\n    (150, 350) #max_bin\n    ]\n\nfrom skopt import gp_minimize\nres = gp_minimize(\n    f, params,\n    acq_func=\"EI\",\n    n_calls=10)\nx = res.x\nprint(res.x)\n",
      "execution_count": 12,
      "outputs": [
        {
          "output_type": "stream",
          "text": "[0.20892726565061098, 2063, 247, 279]\n",
          "name": "stdout"
        },
        {
          "output_type": "stream",
          "text": "/opt/conda/lib/python3.6/site-packages/lightgbm/basic.py:1186: UserWarning: Using categorical_feature in Dataset.\n  warnings.warn('Using categorical_feature in Dataset.')\n/opt/conda/lib/python3.6/site-packages/lightgbm/basic.py:752: UserWarning: categorical_feature in param dict is overridden.\n  warnings.warn('categorical_feature in param dict is overridden.')\n",
          "name": "stderr"
        },
        {
          "output_type": "stream",
          "text": "Training until validation scores don't improve for 20 rounds.\n[25]\tvalid's l2: 0.00330048\n[50]\tvalid's l2: 0.00327178\n[75]\tvalid's l2: 0.00322183\n[100]\tvalid's l2: 0.00320176\n[125]\tvalid's l2: 0.00322436\nEarly stopping, best iteration is:\n[108]\tvalid's l2: 0.00319142\n[0.1410964478460639, 155, 201, 298]\nTraining until validation scores don't improve for 20 rounds.\n",
          "name": "stdout"
        },
        {
          "output_type": "stream",
          "text": "/opt/conda/lib/python3.6/site-packages/lightgbm/basic.py:1186: UserWarning: Using categorical_feature in Dataset.\n  warnings.warn('Using categorical_feature in Dataset.')\n",
          "name": "stderr"
        },
        {
          "output_type": "stream",
          "text": "[25]\tvalid's l2: 0.00330229\n[50]\tvalid's l2: 0.00326941\n[75]\tvalid's l2: 0.00321365\n[100]\tvalid's l2: 0.00319506\n[125]\tvalid's l2: 0.00318483\nEarly stopping, best iteration is:\n[112]\tvalid's l2: 0.0031635\n[0.1487574802187534, 1673, 241, 265]\n",
          "name": "stdout"
        },
        {
          "output_type": "stream",
          "text": "/opt/conda/lib/python3.6/site-packages/lightgbm/basic.py:1186: UserWarning: Using categorical_feature in Dataset.\n  warnings.warn('Using categorical_feature in Dataset.')\n",
          "name": "stderr"
        },
        {
          "output_type": "stream",
          "text": "Training until validation scores don't improve for 20 rounds.\n[25]\tvalid's l2: 0.00329114\n[50]\tvalid's l2: 0.00324698\n[75]\tvalid's l2: 0.00320404\n[100]\tvalid's l2: 0.00318071\nEarly stopping, best iteration is:\n[85]\tvalid's l2: 0.00316369\n[0.18635835259545053, 1149, 160, 261]\n",
          "name": "stdout"
        },
        {
          "output_type": "stream",
          "text": "/opt/conda/lib/python3.6/site-packages/lightgbm/basic.py:1186: UserWarning: Using categorical_feature in Dataset.\n  warnings.warn('Using categorical_feature in Dataset.')\n",
          "name": "stderr"
        },
        {
          "output_type": "stream",
          "text": "Training until validation scores don't improve for 20 rounds.\n[25]\tvalid's l2: 0.00324815\n[50]\tvalid's l2: 0.00322587\n[75]\tvalid's l2: 0.00321118\n[100]\tvalid's l2: 0.00321284\n[125]\tvalid's l2: 0.00325011\nEarly stopping, best iteration is:\n[108]\tvalid's l2: 0.00319271\n[0.18735427364797874, 377, 193, 186]\nTraining until validation scores don't improve for 20 rounds.\n",
          "name": "stdout"
        },
        {
          "output_type": "stream",
          "text": "/opt/conda/lib/python3.6/site-packages/lightgbm/basic.py:1186: UserWarning: Using categorical_feature in Dataset.\n  warnings.warn('Using categorical_feature in Dataset.')\n",
          "name": "stderr"
        },
        {
          "output_type": "stream",
          "text": "[25]\tvalid's l2: 0.00322792\n[50]\tvalid's l2: 0.00319554\n[75]\tvalid's l2: 0.00319587\nEarly stopping, best iteration is:\n[62]\tvalid's l2: 0.00317494\n[0.24412833205906992, 319, 238, 154]\nTraining until validation scores don't improve for 20 rounds.\n",
          "name": "stdout"
        },
        {
          "output_type": "stream",
          "text": "/opt/conda/lib/python3.6/site-packages/lightgbm/basic.py:1186: UserWarning: Using categorical_feature in Dataset.\n  warnings.warn('Using categorical_feature in Dataset.')\n",
          "name": "stderr"
        },
        {
          "output_type": "stream",
          "text": "[25]\tvalid's l2: 0.00327581\n[50]\tvalid's l2: 0.00326239\n[75]\tvalid's l2: 0.00321571\n[100]\tvalid's l2: 0.00322976\nEarly stopping, best iteration is:\n[83]\tvalid's l2: 0.00320756\n[0.15148510715453917, 687, 223, 287]\nTraining until validation scores don't improve for 20 rounds.\n",
          "name": "stdout"
        },
        {
          "output_type": "stream",
          "text": "/opt/conda/lib/python3.6/site-packages/lightgbm/basic.py:1186: UserWarning: Using categorical_feature in Dataset.\n  warnings.warn('Using categorical_feature in Dataset.')\n",
          "name": "stderr"
        },
        {
          "output_type": "stream",
          "text": "[25]\tvalid's l2: 0.00330629\n[50]\tvalid's l2: 0.00325662\n[75]\tvalid's l2: 0.00320532\n[100]\tvalid's l2: 0.00317194\n[125]\tvalid's l2: 0.00316948\nEarly stopping, best iteration is:\n[108]\tvalid's l2: 0.00315138\n[0.18105267879445502, 1659, 238, 184]\n",
          "name": "stdout"
        },
        {
          "output_type": "stream",
          "text": "/opt/conda/lib/python3.6/site-packages/lightgbm/basic.py:1186: UserWarning: Using categorical_feature in Dataset.\n  warnings.warn('Using categorical_feature in Dataset.')\n",
          "name": "stderr"
        },
        {
          "output_type": "stream",
          "text": "Training until validation scores don't improve for 20 rounds.\n[25]\tvalid's l2: 0.00326949\n[50]\tvalid's l2: 0.00322264\n[75]\tvalid's l2: 0.00317629\n[100]\tvalid's l2: 0.00315818\n[125]\tvalid's l2: 0.0031507\nEarly stopping, best iteration is:\n[116]\tvalid's l2: 0.00313318\n[0.207994501665347, 431, 234, 326]\nTraining until validation scores don't improve for 20 rounds.\n",
          "name": "stdout"
        },
        {
          "output_type": "stream",
          "text": "/opt/conda/lib/python3.6/site-packages/lightgbm/basic.py:1186: UserWarning: Using categorical_feature in Dataset.\n  warnings.warn('Using categorical_feature in Dataset.')\n",
          "name": "stderr"
        },
        {
          "output_type": "stream",
          "text": "[25]\tvalid's l2: 0.00326028\n[50]\tvalid's l2: 0.00321612\nEarly stopping, best iteration is:\n[44]\tvalid's l2: 0.00320222\n[0.1485636274886989, 990, 203, 249]\n",
          "name": "stdout"
        },
        {
          "output_type": "stream",
          "text": "/opt/conda/lib/python3.6/site-packages/lightgbm/basic.py:1186: UserWarning: Using categorical_feature in Dataset.\n  warnings.warn('Using categorical_feature in Dataset.')\n",
          "name": "stderr"
        },
        {
          "output_type": "stream",
          "text": "Training until validation scores don't improve for 20 rounds.\n[25]\tvalid's l2: 0.00326293\n[50]\tvalid's l2: 0.00322631\n[75]\tvalid's l2: 0.00318221\nEarly stopping, best iteration is:\n[76]\tvalid's l2: 0.00317726\n[0.18105267879445502, 1659, 238, 184]\n",
          "name": "stdout"
        }
      ]
    },
    {
      "metadata": {
        "trusted": true,
        "_uuid": "c152c25d8447512d1ee1befa0c0757a8b7cc54f4",
        "scrolled": false
      },
      "cell_type": "code",
      "source": "#x = [0.13989172259050747, 437, 205, 215]\n\nlgb_params = dict(\n    objective = 'mse',\n    learning_rate = x[0],\n    num_leaves = x[1],\n    max_depth = -1,\n    bagging_fraction = 0.75,\n    bagging_freq = 2,\n    feature_fraction = 0.5,\n    lambda_l1 = 0.0,\n    lambda_l2 = 1.0,\n    min_data_in_leaf= x[2],\n    max_bin= x[3],\n    seed = 8\n)\n\nevals_result = {}\nmodel = lgb.train(lgb_params, dtrain, num_boost_round=1000, valid_sets=(dvalid,), valid_names=('valid',), verbose_eval=25,\n              early_stopping_rounds=20, evals_result=evals_result)\n\n\ndf_result = pd.DataFrame(evals_result['valid'])",
      "execution_count": 13,
      "outputs": [
        {
          "output_type": "stream",
          "text": "/opt/conda/lib/python3.6/site-packages/lightgbm/basic.py:1186: UserWarning: Using categorical_feature in Dataset.\n  warnings.warn('Using categorical_feature in Dataset.')\n",
          "name": "stderr"
        },
        {
          "output_type": "stream",
          "text": "Training until validation scores don't improve for 20 rounds.\n[25]\tvalid's l2: 0.00326949\n[50]\tvalid's l2: 0.00322264\n[75]\tvalid's l2: 0.00317629\n[100]\tvalid's l2: 0.00315818\n[125]\tvalid's l2: 0.0031507\nEarly stopping, best iteration is:\n[116]\tvalid's l2: 0.00313318\n",
          "name": "stdout"
        }
      ]
    },
    {
      "metadata": {
        "trusted": true,
        "_uuid": "3f8925ddb4c42201fdba38efac258ca38773849d"
      },
      "cell_type": "code",
      "source": "def make_predictions(predictions_template_df, market_obs_df, news_obs_df, le):\n    x, _ = get_x(market_obs_df, news_obs_df, le)\n    predictions_template_df.confidenceValue = np.clip(model.predict(x), -1, 1)",
      "execution_count": 14,
      "outputs": []
    },
    {
      "metadata": {
        "trusted": true,
        "_uuid": "2c8ed34ffb2c47c6e124530ec798c0b4eb01ddd5",
        "scrolled": false
      },
      "cell_type": "code",
      "source": "def error_histogram(y_pred, y_true):\n    plt.style.use(\"seaborn-paper\")\n    error = np.subtract(y_pred, y_true)\n    print(np.std(error))\n    plt.hist(error, bins = np.linspace(-0.25, 0.25, 100), alpha=0.3, color='r')\n    plt.xlabel(\"Error in 10-day return\")\n    plt.ylabel(\"Frequency\")\n    plt.title(\"Error Histogram\")\n    plt.show()",
      "execution_count": 15,
      "outputs": []
    },
    {
      "metadata": {
        "trusted": true,
        "_uuid": "b1773655a2671610e9fd93105c85086a1a5d2cab"
      },
      "cell_type": "code",
      "source": "def training_accuracy(X, y):\n    y_pred = []\n    y_true = []    \n    y_true = y\n    y_pred = model.predict(X)\n    \n    MSE = sklearn.metrics.mean_squared_error(y_true, y_pred)\n    accuracy = accuracy_score(np.array(y_true)>0,np.array(y_pred)>0)\n    \n    plt.hist(y_true, bins=np.linspace(-0.5,0.5,150), alpha=0.3)\n    plt.hist(y_pred, bins=np.linspace(-0.5,0.5,150), alpha=0.3, color='darkorange')\n    plt.legend(['Ground truth', 'Predicted'])\n    plt.xlabel(\"Confidence\")\n    plt.ylabel(\"Count\")\n    plt.title(\"predicted confidence\")\n    plt.show()\n\n    error_histogram(y_pred, y_true)\n    return MSE, accuracy",
      "execution_count": 16,
      "outputs": []
    },
    {
      "metadata": {
        "trusted": true,
        "_uuid": "d08e87f48d10f194dfe55a194b2c380d40e8d92d"
      },
      "cell_type": "code",
      "source": "test_mse, test_accuracy = training_accuracy(X_test, y_test)\nprint (\"Test MSE = \" + str(test_mse) + \", Test Accuracy = \" + str(test_accuracy))",
      "execution_count": 17,
      "outputs": [
        {
          "output_type": "display_data",
          "data": {
            "text/plain": "<Figure size 432x288 with 1 Axes>",
            "image/png": "[encoded data removed]"
          },
          "metadata": {}
        },
        {
          "output_type": "stream",
          "text": "0.07200911809589496\n",
          "name": "stdout"
        },
        {
          "output_type": "display_data",
          "data": {
            "text/plain": "<Figure size 460.8x316.8 with 1 Axes>",
            "image/png": "[encoded data removed]"
          },
          "metadata": {}
        },
        {
          "output_type": "stream",
          "text": "Test MSE = 0.005197873491962922, Test Accuracy = 0.542\n",
          "name": "stdout"
        }
      ]
    },
    {
      "metadata": {
        "trusted": true,
        "_uuid": "539ad3aca733901a776ba10710810f726a869a95"
      },
      "cell_type": "code",
      "source": "valid_mse, valid_acc = training_accuracy(X_valid, y_valid)\nprint (\"Valid MSE = \" + str(valid_mse) + \", Valid Accuracy = \" + str(valid_acc))",
      "execution_count": 18,
      "outputs": [
        {
          "output_type": "display_data",
          "data": {
            "text/plain": "<Figure size 460.8x316.8 with 1 Axes>",
            "image/png": "[encoded data removed]"
          },
          "metadata": {}
        },
        {
          "output_type": "stream",
          "text": "0.05582049564956733\n",
          "name": "stdout"
        },
        {
          "output_type": "display_data",
          "data": {
            "text/plain": "<Figure size 460.8x316.8 with 1 Axes>",
            "image/png": "[encoded data removed]"
          },
          "metadata": {}
        },
        {
          "output_type": "stream",
          "text": "Valid MSE = 0.0031331754500269634, Valid Accuracy = 0.580034924330617\n",
          "name": "stdout"
        }
      ]
    },
    {
      "metadata": {
        "trusted": true,
        "_uuid": "f599f7455126a63553d0761fb5bdb8acc6d48492"
      },
      "cell_type": "code",
      "source": "train_mse, train_acc = training_accuracy(X_train, y_train)\nprint (\"Train MSE = \" + str(train_mse) + \", Train Accuracy = \" + str(train_acc))",
      "execution_count": 19,
      "outputs": [
        {
          "output_type": "display_data",
          "data": {
            "text/plain": "<Figure size 460.8x316.8 with 1 Axes>",
            "image/png": "[encoded data removed]"
          },
          "metadata": {}
        },
        {
          "output_type": "stream",
          "text": "0.039547577546980024\n",
          "name": "stdout"
        },
        {
          "output_type": "display_data",
          "data": {
            "text/plain": "<Figure size 460.8x316.8 with 1 Axes>",
            "image/png": "[encoded data removed]"
          },
          "metadata": {}
        },
        {
          "output_type": "stream",
          "text": "Train MSE = 0.0015640121550406839, Train Accuracy = 0.774\n",
          "name": "stdout"
        }
      ]
    },
    {
      "metadata": {
        "trusted": true,
        "_uuid": "641cc8e4052ab1b7b53d607a99425fb26853c187"
      },
      "cell_type": "code",
      "source": "dtrain_full = lgb.Dataset(X, y, feature_name=train_cols, categorical_feature=categorical_cols)\n\nmodel = lgb.train(lgb_params, dtrain, num_boost_round=df_result['l2'].idxmin()+1)",
      "execution_count": 20,
      "outputs": [
        {
          "output_type": "stream",
          "text": "/opt/conda/lib/python3.6/site-packages/lightgbm/basic.py:1186: UserWarning: Using categorical_feature in Dataset.\n  warnings.warn('Using categorical_feature in Dataset.')\n",
          "name": "stderr"
        }
      ]
    },
    {
      "metadata": {
        "trusted": true,
        "_uuid": "2c6ccd0aad718552fb1d70093f000a79740cf3e5"
      },
      "cell_type": "code",
      "source": "days = env.get_prediction_days()\n\nfor (market_obs_df, news_obs_df, predictions_template_df) in days:\n    make_predictions(predictions_template_df, market_obs_df, news_obs_df, le)\n    env.predict(predictions_template_df)\nprint('Done!')",
      "execution_count": 21,
      "outputs": [
        {
          "output_type": "stream",
          "text": "Done!\n",
          "name": "stdout"
        }
      ]
    },
    {
      "metadata": {
        "trusted": true,
        "_uuid": "43ab2df9eb35a5166e55d4b708d4256073e848a0"
      },
      "cell_type": "code",
      "source": "env.write_submission_file()",
      "execution_count": 22,
      "outputs": [
        {
          "output_type": "stream",
          "text": "Your submission file has been saved. Once you `Commit` your Kernel and it finishes running, you can submit the file to the competition from the Kernel Viewer `Output` tab.\n",
          "name": "stdout"
        }
      ]
    }
  ],
  "metadata": {
    "kernelspec": {
      "display_name": "Python 3",
      "language": "python",
      "name": "python3"
    },
    "language_info": {
      "name": "python",
      "version": "3.6.6",
      "mimetype": "text/x-python",
      "codemirror_mode": {
        "name": "ipython",
        "version": 3
      },
      "pygments_lexer": "ipython3",
      "nbconvert_exporter": "python",
      "file_extension": ".py"
    }
  },
  "nbformat": 4,
  "nbformat_minor": 1
}